vis_filter=int(num_filters/8)
        vis_filter = min(vis_filter, 16)  # Limit the number of filters to visualize
        display_grid = np.zeros((size, size * vis_filter))
        
        for i in range(vis_filter):
            x = intermediate_output[0, :, :, i]
            x -= x.mean()
            x /= x.std() + 1e-5
            x *= 64
            x += 128
            x = np.clip(x, 0, 255).astype('uint8')
            display_grid[:, i * size : (i + 1) * size] = x
        
        scale = 100. / vis_filter
        plt.figure(figsize=(scale * vis_filter, scale))
        plt.title(f'Features from {layer_name}')
        plt.grid(False)
        plt.imshow(display_grid, aspect='auto', cmap='viridis')
        plt.savefig('conv1.png')
        plt.show()